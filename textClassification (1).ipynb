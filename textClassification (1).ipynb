{
 "cells": [
  {
   "cell_type": "code",
   "execution_count": 1,
   "metadata": {},
   "outputs": [],
   "source": [
    "import pandas as pd\n",
    "\n",
    "df = pd.read_csv(\"Dataset/ar_reviews_100k.tsv\", sep = '\\t')\n",
    "\n",
    "label_mapping = {\"Positive\": 1, \"Negative\":-1 , \"Mixed\": 0}\n",
    "\n",
    "df = df.rename(columns = {\"class\":\"label\"})\n",
    "\n",
    "df[\"label\"] = df[\"label\"].map(label_mapping)"
   ]
  },
  {
   "cell_type": "code",
   "execution_count": 2,
   "metadata": {},
   "outputs": [
    {
     "name": "stdout",
     "output_type": "stream",
     "text": [
      "0        ممتاز نوعا ما . النظافة والموقع والتجهيز والشا...\n",
      "1        أحد أسباب نجاح الإمارات أن كل شخص في هذه الدول...\n",
      "2        هادفة .. وقوية. تنقلك من صخب شوارع القاهرة الى...\n",
      "3        خلصنا .. مبدئيا اللي مستني ابهار زي الفيل الاز...\n",
      "4        ياسات جلوريا جزء لا يتجزأ من دبي . فندق متكامل...\n",
      "                               ...                        \n",
      "99994    معرفش ليه كنت عاوزة أكملها وهي مش عاجباني من ا...\n",
      "99995    لا يستحق ان يكون في بوكنق لانه سيئ . لا شي. لا...\n",
      "99996    كتاب ضعيف جدا ولم استمتع به. فى كل قصه سرد لحا...\n",
      "99997    مملة جدا. محمد حسن علوان فنان بالكلمات، والوصف...\n",
      "99998    لن ارجع إليه مرة اخرى . قربه من البحر. المكان ...\n",
      "Name: text, Length: 99999, dtype: object\n",
      "0        1\n",
      "1        1\n",
      "2        1\n",
      "3        1\n",
      "4        1\n",
      "        ..\n",
      "99994   -1\n",
      "99995   -1\n",
      "99996   -1\n",
      "99997   -1\n",
      "99998   -1\n",
      "Name: label, Length: 99999, dtype: int64\n"
     ]
    }
   ],
   "source": [
    "df[\"label\"].value_counts()\n",
    "# print(df.head())\n",
    "print(df[\"text\"])\n",
    "print(df[\"label\"])"
   ]
  },
  {
   "cell_type": "code",
   "execution_count": 3,
   "metadata": {},
   "outputs": [
    {
     "name": "stdout",
     "output_type": "stream",
     "text": [
      "Train set: \n",
      " 1    23378\n",
      "-1    23315\n",
      " 0    23306\n",
      "Name: label, dtype: int64\n",
      "---------------------------\n",
      "Test set: \n",
      " 0    10027\n",
      "-1    10018\n",
      " 1     9955\n",
      "Name: label, dtype: int64\n"
     ]
    }
   ],
   "source": [
    "#https://scikit-learn.org/stable/modules/generated/sklearn.model_selection.train_test_split.html\n",
    "\n",
    "from sklearn.model_selection import train_test_split\n",
    "\n",
    "train,test  = train_test_split( df, train_size=0.7,test_size=0.3, random_state=101)\n",
    "\n",
    "print(\"Train set: \")\n",
    "print(train[\"label\"].value_counts())\n",
    "print(\"---------------------------\")\n",
    "print (\"Test set: \")\n",
    "print (test[\"label\"].value_counts())"
   ]
  },
  {
   "cell_type": "code",
   "execution_count": 4,
   "metadata": {},
   "outputs": [],
   "source": [
    "\n",
    "x = train['text']\n",
    "y = train['label']\n",
    "\n",
    "x_test = test['text']\n",
    "y_test = test['label']"
   ]
  },
  {
   "cell_type": "code",
   "execution_count": 5,
   "metadata": {},
   "outputs": [
    {
     "name": "stdout",
     "output_type": "stream",
     "text": [
      "Traning data : \n",
      "19755    أحببتها كثيرا. أخذتني إلى عالم آخر لقد عشتها ب...\n",
      "78590                                       خامة رديئه جدا\n",
      "42068    مقبول. الموقع جيد. الخدمة عادية جدا ولا تليق ب...\n",
      "28438    اول كتاب تشعر انه حقيقى وصادق ومخلص عن حرب اكت...\n",
      "68764    لم اكمله توقفت في منتصفه. لم اجد لذلك من متعة....\n",
      "                               ...                        \n",
      "5695     الكتاب الذي دفعني إلى عالم الكتابة. كنت أتمنى ...\n",
      "73542    كتاب خفيف وظريف : عرفني أكثر على بعض مشاهير تويتر\n",
      "83281    فندق لطيف إذا كنت تحب الصراصير لابد أن هذا الف...\n",
      "83467    اعرف ان الروايه تكون من نسج خيال المؤلف، اما ه...\n",
      "45919                           مرضي. لا شيء. ازعاج المرقص\n",
      "Name: text, Length: 69999, dtype: object\n",
      "19755    1\n",
      "78590   -1\n",
      "42068    0\n",
      "28438    1\n",
      "68764   -1\n",
      "        ..\n",
      "5695     1\n",
      "73542   -1\n",
      "83281   -1\n",
      "83467   -1\n",
      "45919    0\n",
      "Name: label, Length: 69999, dtype: int64\n"
     ]
    }
   ],
   "source": [
    "print(\"Traning data : \")\n",
    "print(x)\n",
    "print(y)\n",
    "\n",
    "# print(\"Testing data\")\n",
    "# print(x_test)\n",
    "# print(y_test)"
   ]
  },
  {
   "cell_type": "code",
   "execution_count": 6,
   "metadata": {},
   "outputs": [],
   "source": [
    "#https://scikit-learn.org/stable/modules/generated/sklearn.pipeline.Pipeline.html\n",
    "#https://scikit-learn.org/stable/modules/generated/sklearn.feature_extraction.text.TfidfVectorizer.html\n",
    "from sklearn.feature_extraction.text import TfidfVectorizer\n",
    "from sklearn.pipeline import Pipeline\n",
    "import numpy as np\n",
    " \n",
    "def train_model(model, data, targets):\n",
    "    text_clf = Pipeline([('vect',\n",
    "    TfidfVectorizer(lowercase=False,ngram_range=(1, 2))),\n",
    "    ('clf', model)])\n",
    "    \n",
    "    text_clf.fit(data, targets)\n",
    "    return text_clf\n",
    "def get_accuracy(trained_model,x, y):\n",
    "    predicted = trained_model.predict(x)\n",
    "    accuracy = np.mean(predicted == y)\n",
    "    return accuracy"
   ]
  },
  {
   "cell_type": "code",
   "execution_count": 11,
   "metadata": {},
   "outputs": [
    {
     "name": "stdout",
     "output_type": "stream",
     "text": [
      "Test dataset accuracy with MultinomialNB: 0.6580333333333334\n"
     ]
    }
   ],
   "source": [
    "#https://scikit-learn.org/stable/modules/generated/sklearn.naive_bayes.MultinomialNB.html\n",
    "from sklearn.naive_bayes import MultinomialNB\n",
    "trained_clf_multinomial_nb = train_model(MultinomialNB(), x, y)\n",
    "accuracy = get_accuracy(trained_clf_multinomial_nb,x_test, y_test)\n",
    "print(\"Test dataset accuracy with MultinomialNB:\", accuracy)\n"
   ]
  },
  {
   "cell_type": "code",
   "execution_count": 37,
   "metadata": {},
   "outputs": [
    {
     "name": "stdout",
     "output_type": "stream",
     "text": [
      "Test dataset accuracy with LinearSVC: 0.6772666666666667\n"
     ]
    }
   ],
   "source": [
    "#https://scikit-learn.org/stable/modules/generated/sklearn.svm.LinearSVC.html\n",
    "from sklearn.svm import LinearSVC\n",
    "trained_clf_linearSVC = train_model(LinearSVC(), x, y)\n",
    "accuracy = get_accuracy(trained_clf_linearSVC,x_test, y_test)\n",
    "print(\"Test dataset accuracy with LinearSVC:\", accuracy)"
   ]
  },
  {
   "cell_type": "code",
   "execution_count": 10,
   "metadata": {},
   "outputs": [
    {
     "name": "stdout",
     "output_type": "stream",
     "text": [
      "Accuracy score is 0.64\n",
      "              precision    recall  f1-score   support\n",
      "\n",
      "          -1       0.67      0.72      0.69     10018\n",
      "           0       0.55      0.59      0.57     10027\n",
      "           1       0.72      0.62      0.66      9955\n",
      "\n",
      "    accuracy                           0.64     30000\n",
      "   macro avg       0.65      0.64      0.64     30000\n",
      "weighted avg       0.65      0.64      0.64     30000\n",
      "\n"
     ]
    }
   ],
   "source": [
    "from sklearn.pipeline import make_pipeline\n",
    "from sklearn.metrics import confusion_matrix,accuracy_score, classification_report\n",
    "pipe = make_pipeline(TfidfVectorizer(),MultinomialNB())\n",
    "pipe.fit(x,y)\n",
    "prediction = pipe.predict(x_test)\n",
    "print(f\"Accuracy score is {accuracy_score(y_test, prediction):.2f}\")\n",
    "print(classification_report(y_test, prediction))"
   ]
  },
  {
   "cell_type": "code",
   "execution_count": null,
   "metadata": {},
   "outputs": [],
   "source": []
  },
  {
   "cell_type": "code",
   "execution_count": null,
   "metadata": {},
   "outputs": [],
   "source": []
  },
  {
   "cell_type": "code",
   "execution_count": null,
   "metadata": {},
   "outputs": [],
   "source": []
  },
  {
   "cell_type": "code",
   "execution_count": null,
   "metadata": {},
   "outputs": [],
   "source": []
  }
 ],
 "metadata": {
  "interpreter": {
   "hash": "916dbcbb3f70747c44a77c7bcd40155683ae19c65e1c03b4aa3499c5328201f1"
  },
  "kernelspec": {
   "display_name": "Python 3 (ipykernel)",
   "language": "python",
   "name": "python3"
  },
  "language_info": {
   "codemirror_mode": {
    "name": "ipython",
    "version": 3
   },
   "file_extension": ".py",
   "mimetype": "text/x-python",
   "name": "python",
   "nbconvert_exporter": "python",
   "pygments_lexer": "ipython3",
   "version": "3.8.10"
  }
 },
 "nbformat": 4,
 "nbformat_minor": 2
}
